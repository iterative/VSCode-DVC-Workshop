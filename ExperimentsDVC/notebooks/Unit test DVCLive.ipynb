{
 "cells": [
  {
   "cell_type": "code",
   "execution_count": 1,
   "id": "8d7621cb",
   "metadata": {},
   "outputs": [],
   "source": [
    "from dvclive import Live"
   ]
  },
  {
   "cell_type": "code",
   "execution_count": 2,
   "id": "40735bdc",
   "metadata": {},
   "outputs": [],
   "source": [
    "with Live() as live:\n",
    "    live.log_metric(\"ACC\",0.8)\n",
    "    live.log_metric(\"LOSS\", 0.34)"
   ]
  }
 ],
 "metadata": {
  "kernelspec": {
   "display_name": "Python 3.9.13 ('.venv': venv)",
   "language": "python",
   "name": "python3"
  },
  "language_info": {
   "codemirror_mode": {
    "name": "ipython",
    "version": 3
   },
   "file_extension": ".py",
   "mimetype": "text/x-python",
   "name": "python",
   "nbconvert_exporter": "python",
   "pygments_lexer": "ipython3",
   "version": "3.9.13"
  },
  "vscode": {
   "interpreter": {
    "hash": "37d633433ca84200b074ed3936f4418fa781472641359acf29b95ca31f5f98f7"
   }
  }
 },
 "nbformat": 4,
 "nbformat_minor": 5
}
